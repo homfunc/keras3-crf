{
 "cells": [
  {"cell_type": "markdown", "metadata": {}, "source": [
    "# Keras Core CRF minimal example and backend switching\n\n",
    "This notebook shows how to use the backend-independent CRF ops and layer with Keras Core.\n",
    "It attempts to switch backends (TensorFlow, JAX, PyTorch) if available."
  ]},
  {"cell_type": "code", "execution_count": null, "metadata": {}, "outputs": [], "source": [
    "import keras\n",
    "from keras import ops as K\n",
    "import numpy as np\n",
    "from keras_crf.core_kops import crf_log_likelihood, crf_decode\n",
    "from keras_crf.layers_core import KerasCoreCRF\n",
    "print('Keras backend:', keras.config.backend())"
  ]},
  {"cell_type": "code", "execution_count": null, "metadata": {}, "outputs": [], "source": [
    "# Try switching backends (will only work if installed)\n",
    "for backend in ['tensorflow','jax','torch']:\n",
    "    try:\n",
    "        keras.config.set_backend(backend)\n",
    "        print('Switched to backend:', backend)\n",
    "        break\n",
    "    except Exception as e:\n",
    "        print('Could not set backend', backend, e)\n",
    "print('Using backend:', keras.config.backend())"
  ]},
  {"cell_type": "markdown", "metadata": {}, "source": [
    "## Ops usage"
  ]},
  {"cell_type": "code", "execution_count": null, "metadata": {}, "outputs": [], "source": [
    "B,T,N = 2,4,3\n",
    "rng = np.random.default_rng(0)\n",
    "potentials = K.convert_to_tensor(rng.normal(size=(B,T,N)).astype('float32'))\n",
    "tags = K.convert_to_tensor(rng.integers(0,N,size=(B,T),dtype=np.int32))\n",
    "lens = K.convert_to_tensor(np.array([4,3],dtype=np.int32))\n",
    "trans = K.convert_to_tensor(rng.normal(size=(N,N)).astype('float32'))\n",
    "ll = crf_log_likelihood(potentials, tags, lens, trans)\n",
    "dec, score = crf_decode(potentials, lens, trans)\n",
    "print('log-likelihood:', K.convert_to_numpy(ll))\n",
    "print('decoded:', K.convert_to_numpy(dec))\n",
    "print('score:', K.convert_to_numpy(score))"
  ]},
  {"cell_type": "markdown", "metadata": {}, "source": [
    "## Layer usage"
  ]},
  {"cell_type": "code", "execution_count": null, "metadata": {}, "outputs": [], "source": [
    "import tensorflow as tf\n",
    "inputs = keras.Input(shape=(T,N), dtype='float32')\n",
    "crf = KerasCoreCRF(units=N, use_kernel=False, use_boundary=False)\n",
    "decoded, potentials, seq_len, trans_w = crf(inputs)\n",
    "model = keras.Model(inputs, [decoded, potentials, seq_len, trans_w])\n",
    "out = model.predict(np.random.randn(B,T,N).astype('float32'), verbose=0)\n",
    "print([x.shape if hasattr(x,'shape') else type(x) for x in out])"
  ]}
 ],
 "metadata": {"kernelspec": {"display_name": "Python 3", "language": "python", "name": "python3"}, "language_info": {"name": "python", "version": "3.11"}},
 "nbformat": 4,
 "nbformat_minor": 5
}
