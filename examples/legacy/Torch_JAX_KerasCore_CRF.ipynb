{
 "cells": [
  {
   "cell_type": "markdown",
   "metadata": {},
   "source": [
    "# Keras Core CRF on Torch or JAX\n\n",
    "This notebook demonstrates running the CRF layer with Keras 3 universal ops on non-TensorFlow backends.\n\n",
    "Setup:\n",
    "- Choose a backend before importing Keras: set the environment variable `KERAS_BACKEND=torch` or `KERAS_BACKEND=jax`.\n",
    "- Install backend packages if needed (CPU by default):\n",
    "  - Torch: `pip install .[torch]` (or follow https://pytorch.org/get-started/locally/ for CUDA)\n",
    "  - JAX: `pip install .[jax]` (or follow https://jax.readthedocs.io/en/latest/installation.html for CUDA)\n\n",
    "Note: If you change `KERAS_BACKEND` within this notebook, restart the kernel before importing Keras."
   ]
  },
  {
   "cell_type": "code",
   "execution_count": null,
   "metadata": {},
   "outputs": [],
   "source": [
    "# Optional: set backend in-code (prefer setting the environment before starting the kernel)\n",
    "import os\n",
    "# os.environ[\"KERAS_BACKEND\"] = \"torch\"  # or \"jax\"\n",
    "print(\"KERAS_BACKEND=\", os.environ.get(\"KERAS_BACKEND\", \"<not set>\"))"
   ]
  },
  {
   "cell_type": "code",
   "execution_count": null,
   "metadata": {},
   "outputs": [],
   "source": [
    "import numpy as np\n",
    "import keras\n",
    "from keras import layers, ops as K\n",
    "from keras_crf import CRF\n\n",
    "# Build a simple model: Embedding -> BiLSTM -> CRF\n",
    "vocab_size = 100\n",
    "num_tags = 5\n",
    "max_len = 10\n\n",
    "inputs = keras.Input(shape=(max_len,), dtype=\"int32\")\n",
    "emb = layers.Embedding(vocab_size + 1, 16, mask_zero=True)(inputs)\n",
    "seq = layers.Bidirectional(layers.LSTM(32, return_sequences=True))(emb)\n",
    "crf = CRF(units=num_tags)\n",
    "decoded, potentials, seq_len, kernel = crf(seq)\n",
    "model = keras.Model(inputs, [decoded, potentials, seq_len, kernel])\n",
    "model"
   ]
  },
  {
   "cell_type": "code",
   "execution_count": null,
   "metadata": {},
   "outputs": [],
   "source": [
    "# Dummy data\n",
    "X = np.random.randint(1, vocab_size, (4, max_len)).astype(\"int32\")\n",
    "Y = np.random.randint(0, num_tags, (4, max_len)).astype(\"int32\")\n\n",
    "decoded_out, potentials_out, seq_len_out, kernel_out = model(X)\n",
    "print(\"decoded shape:\", K.shape(decoded_out))\n",
    "print(\"potentials shape:\", K.shape(potentials_out))\n",
    "print(\"seq_len shape:\", K.shape(seq_len_out))\n\n",
    "# Compute backend-agnostic CRF log-likelihood\n",
    "ll = crf.log_likelihood(potentials_out, Y, seq_len_out)\n",
    "print(\"mean negative log-likelihood:\", float(K.mean(-ll)))"
   ]
  }
 ],
 "metadata": {
  "kernelspec": {
   "display_name": "Python 3",
   "language": "python",
   "name": "python3"
  },
  "language_info": {
   "name": "python",
   "version": "3"
  }
 },
 "nbformat": 4,
 "nbformat_minor": 5
}

