{
 "cells": [
  {"cell_type":"markdown","metadata":{},"source":["# End-to-end NER with CRF: CleanCoNLL and MultiCoNER (Keras 3)\n","This notebook demonstrates training and evaluation on two datasets using the reusable utilities in `examples/train_lib.py`.\n"]},
  {"cell_type":"code","execution_count":null,"metadata":{},"outputs":[],"source":["import os, sys, pathlib\n","os.environ.setdefault('KERAS_BACKEND', os.getenv('KERAS_BACKEND','tensorflow'))\n","root = pathlib.Path(__file__).resolve().parents[2]\n","sys.path.insert(0, str(root))\n","from examples import train_lib as tl\n"]},
  {"cell_type":"markdown","metadata":{},"source":["## CleanCoNLL"]},
  {"cell_type":"code","execution_count":null,"metadata":{},"outputs":[],"source":["# If needed, prepare via helper script (uncomment and run once)\n","# !python examples/data/cleanconll_prepare.py --output-dir examples/data/cleanconll\n","train = 'examples/data/cleanconll/train.txt'\n","valid = 'examples/data/cleanconll/valid.txt'\n","test  = 'examples/data/cleanconll/test.txt'\n","X_tr, Y_tr, X_va, Y_va, X_te, Y_te, V, C, id2tag = tl.load_conll(train, valid, test)\n","model, model_pred = tl.build_bilstm_crf_models(V, C, loss='dice+nll', joint_nll_weight=0.2)\n","res = tl.train_and_evaluate(model, model_pred, X_tr, Y_tr, X_va, Y_va, X_te, Y_te, epochs=2, batch_size=64, id2tag=id2tag)\n","res\n"]},
  {"cell_type":"markdown","metadata":{},"source":["## MultiCoNER (English subset)"]},
  {"cell_type":"code","execution_count":null,"metadata":{},"outputs":[],"source":["# Point to your local EN-English directory (e.g., '../multiconer2023/EN-English')\n","mc_dir = '../multiconer2023/EN-English'\n","X_tr, Y_tr, X_va, Y_va, X_te, Y_te, V, C, id2tag = tl.load_multiconer_en(mc_dir)\n","model, model_pred = tl.build_bilstm_crf_models(V, C, loss='dice+nll', joint_nll_weight=0.2)\n","res_mc = tl.train_and_evaluate(model, model_pred, X_tr, Y_tr, X_va, Y_va, X_te, Y_te, epochs=2, batch_size=64, id2tag=id2tag)\n","res_mc\n"]}
 ],
 "metadata": {"kernelspec":{"display_name":"Python 3","language":"python","name":"python3"},"language_info":{"name":"python","version":"3"}},
 "nbformat":4,
 "nbformat_minor":5
}

