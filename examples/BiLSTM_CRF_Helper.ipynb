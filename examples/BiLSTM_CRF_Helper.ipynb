{
 "cells": [
  {
   "cell_type": "markdown",
   "metadata": {},
   "source": [
    "# BiLSTM-CRF (helper-based)\n",
    "This notebook shows how to build, train, and evaluate a BiLSTM-CRF using keras_crf.train_utils helpers."
   ]
  },
  {
   "cell_type": "code",
   "execution_count": null,
   "metadata": {},
   "outputs": [],
   "source": [
    "import os\n",
    "os.environ.setdefault('KERAS_BACKEND', os.getenv('KERAS_BACKEND', 'tensorflow'))\n",
    "import numpy as np\n",
    "import keras\n",
    "from keras import layers\n",
    "import sys, pathlib\n",
    "root = pathlib.Path(__file__).resolve().parents[2]\n",
    "sys.path.insert(0, str(root))\n",
    "from examples.utils.data import make_varlen_dataset\n",
    "from examples.utils.metrics import MaskedTokenAccuracy\n",
    "from keras_crf.train_utils import make_crf_tagger, prepare_crf_targets\n"
   ]
  },
  {
   "cell_type": "code",
   "execution_count": null,
   "metadata": {},
   "outputs": [],
   "source": [
    "# Synthetic dataset\n",
    "X_train, Y_train, _ = make_varlen_dataset(1000, 40, 200, 6, seed=1)\n",
    "X_val, Y_val, _ = make_varlen_dataset(200, 40, 200, 6, seed=2)\n",
    "vocab_size = 200\n",
    "num_tags = 6\n"
   ]
  },
  {
   "cell_type": "code",
   "execution_count": null,
   "metadata": {},
   "outputs": [],
   "source": [
    "tokens_in = keras.Input(shape=(None,), dtype='int32', name='tokens')\n",
    "x = layers.Embedding(vocab_size + 1, 64, mask_zero=True)(tokens_in)\n",
    "x = layers.Bidirectional(layers.LSTM(64, return_sequences=True))(x)\n",
    "model = make_crf_tagger(tokens_in, x, num_tags, metrics=[MaskedTokenAccuracy()], loss='dice+nll', joint_nll_weight=0.2)\n",
    "y_train, sw_train = prepare_crf_targets(Y_train, mask=(X_train != 0).astype(np.float32))\n",
    "y_val, sw_val = prepare_crf_targets(Y_val, mask=(X_val != 0).astype(np.float32))\n",
    "model.fit({'tokens': X_train, 'labels': Y_train}, y_train, sample_weight=sw_train,\n",
    "          validation_data=({'tokens': X_val, 'labels': Y_val}, y_val, sw_val),\n",
    "          epochs=2, batch_size=64, verbose=2)\n"
   ]
  }
 ],
 "metadata": {
  "kernelspec": {
   "display_name": "Python 3",
   "language": "python",
   "name": "python3"
  },
  "language_info": {
   "name": "python",
   "version": "3"
  }
 },
 "nbformat": 4,
 "nbformat_minor": 5
}

